{
 "cells": [
  {
   "cell_type": "markdown",
   "metadata": {},
   "source": [
    "<h1><center>Imports</center></h1>"
   ]
  },
  {
   "cell_type": "code",
   "execution_count": 1,
   "metadata": {},
   "outputs": [],
   "source": [
    "import numpy as np\n",
    "import matplotlib.pyplot as plt\n",
    "from scipy.io import loadmat\n",
    "\n",
    "from sklearn.preprocessing import OneHotEncoder\n",
    "import h5py"
   ]
  },
  {
   "cell_type": "code",
   "execution_count": 2,
   "metadata": {},
   "outputs": [],
   "source": [
    "%%capture\n",
    "import import_ipynb\n",
    "import Create_non_digit_data"
   ]
  },
  {
   "cell_type": "code",
   "execution_count": 3,
   "metadata": {},
   "outputs": [],
   "source": [
    "# allows matplotlib plots to show on page\n",
    "%matplotlib inline"
   ]
  },
  {
   "cell_type": "markdown",
   "metadata": {},
   "source": [
    "<h1><center>Functions</center></h1>"
   ]
  },
  {
   "cell_type": "code",
   "execution_count": 4,
   "metadata": {},
   "outputs": [],
   "source": [
    "def get_data(file):\n",
    "    '''\n",
    "    gets data from .mat file\n",
    "    '''\n",
    "    data = loadmat(file)\n",
    "    X = data['X']\n",
    "    y = data['y']\n",
    "    print(type(X))\n",
    "    return(X, y)"
   ]
  },
  {
   "cell_type": "code",
   "execution_count": 5,
   "metadata": {},
   "outputs": [],
   "source": [
    "def get_non_digit_data():\n",
    "    '''\n",
    "    gets non-digit containing data\n",
    "    '''\n",
    "    X, y = Create_non_digit_data.make_non_digit_examples()\n",
    "#     print(len(X))\n",
    "#     print(len(y))\n",
    "    return(X, y)"
   ]
  },
  {
   "cell_type": "code",
   "execution_count": 6,
   "metadata": {},
   "outputs": [],
   "source": [
    "def show_img(img, label):\n",
    "    '''\n",
    "    shows 1 image\n",
    "    '''\n",
    "    fig, ax = plt.subplots(1, 1)\n",
    "    if img.shape[2] == 1: # grayscale\n",
    "        ax.imshow(img[:,:,0], cmap='gray')\n",
    "    elif img.shape[2] == 3: # color\n",
    "        ax.imshow(img)\n",
    "    else:\n",
    "        print('An issue occured. img.shape: {}'.format(img.shape))\n",
    "    ax.set_xticks([]); ax.set_yticks([])\n",
    "    ax.set_title(label)"
   ]
  },
  {
   "cell_type": "code",
   "execution_count": 7,
   "metadata": {},
   "outputs": [],
   "source": [
    "def rgb2gray(imgs):\n",
    "    '''\n",
    "    turns rgb images to grayscale\n",
    "    '''\n",
    "    imgs_gray = np.expand_dims(np.dot(imgs, [0.2990, 0.5870, 0.1140]), axis=3)\n",
    "    return(imgs_gray)"
   ]
  },
  {
   "cell_type": "code",
   "execution_count": 8,
   "metadata": {},
   "outputs": [],
   "source": [
    "def plot_distribution(train, val, test):\n",
    "    '''\n",
    "    plots the distribution of labels in the data set\n",
    "    '''\n",
    "    plt.figure(figsize=(20, 10))\n",
    "    \n",
    "    fig, (ax1, ax2, ax3) = plt.subplots(1, 3)\n",
    "\n",
    "    fig.suptitle('Class Distribution', fontsize=14, fontweight='bold', y=1.05)\n",
    "    \n",
    "\n",
    "    ax1.hist(y_train, bins=10)\n",
    "    ax1.set_title(\"Training set\")\n",
    "    \n",
    "    ax2.hist(y_val, color='r', bins=10)\n",
    "    ax2.set_title(\"Validation set\")\n",
    "\n",
    "    ax3.hist(y_test, color='g', bins=10)\n",
    "    ax3.set_title(\"Test set\")\n",
    "\n",
    "    fig.tight_layout()"
   ]
  },
  {
   "cell_type": "markdown",
   "metadata": {},
   "source": [
    "<h1><center>In Line Code</center></h1>"
   ]
  },
  {
   "cell_type": "markdown",
   "metadata": {},
   "source": [
    "<h2>Part 1: Get digit containing data</h2>"
   ]
  },
  {
   "cell_type": "code",
   "execution_count": 9,
   "metadata": {},
   "outputs": [
    {
     "name": "stdout",
     "output_type": "stream",
     "text": [
      "<class 'numpy.ndarray'>\n",
      "(old) X_train: (32, 32, 3, 73257), y_train: (73257, 1)\n",
      "(new) X_train: (73257, 32, 32, 3), y_train: (73257,)\n",
      "(73257, 32, 32, 3)\n"
     ]
    }
   ],
   "source": [
    "X_train, y_train = get_data('training_images/train_32x32.mat')\n",
    "y_train[y_train == 10] = 0\n",
    "print('(old) X_train: {}, y_train: {}'.format(X_train.shape, y_train.shape))\n",
    "X_train, y_train = X_train.transpose((3,0,1,2)), y_train[:,0]\n",
    "\n",
    "# (num_images, num_rows, num_cols, num_colors)\n",
    "print('(new) X_train: {}, y_train: {}'.format(X_train.shape, y_train.shape))\n",
    "\n",
    "# show_img(X_train[0], y_train[0])\n",
    "\n",
    "print(X_train.shape)"
   ]
  },
  {
   "cell_type": "code",
   "execution_count": 10,
   "metadata": {},
   "outputs": [
    {
     "name": "stdout",
     "output_type": "stream",
     "text": [
      "<class 'numpy.ndarray'>\n",
      "(old) X_test: (32, 32, 3, 26032), y_test: (26032, 1)\n",
      "(new) X_test: (26032, 32, 32, 3), y_test: (26032,)\n"
     ]
    }
   ],
   "source": [
    "X_test, y_test = get_data('training_images/test_32x32.mat')\n",
    "y_test[y_test == 10] = 0\n",
    "print('(old) X_test: {}, y_test: {}'.format(X_test.shape, y_test.shape))\n",
    "X_test, y_test = X_test.transpose((3,0,1,2)), y_test[:,0]\n",
    "\n",
    "# (num_images, num_rows, num_cols, num_colors)\n",
    "print('(new) X_test: {}, y_test: {}'.format(X_test.shape, y_test.shape))\n",
    "\n",
    "# show_img(X_test[0], y_test[0])"
   ]
  },
  {
   "cell_type": "markdown",
   "metadata": {},
   "source": [
    "<h2>Part 2: Convert digit containing data to (num_imgs, 32, 32, 1)</h2>"
   ]
  },
  {
   "cell_type": "code",
   "execution_count": 11,
   "metadata": {},
   "outputs": [
    {
     "name": "stdout",
     "output_type": "stream",
     "text": [
      "X_train: (73257, 32, 32, 3), X_test: (26032, 32, 32, 3)\n",
      "X_train_gray: (73257, 32, 32, 1), X_test_gray: (26032, 32, 32, 1)\n"
     ]
    }
   ],
   "source": [
    "print('X_train: {}, X_test: {}'.format(X_train.shape, X_test.shape))\n",
    "X_train_gray = rgb2gray(X_train).astype(np.float32)\n",
    "X_test_gray = rgb2gray(X_test).astype(np.float32)\n",
    "print('X_train_gray: {}, X_test_gray: {}'.format(X_train_gray.shape, X_test_gray.shape))"
   ]
  },
  {
   "cell_type": "markdown",
   "metadata": {},
   "source": [
    "<h2>Part 3: Get data not containing digits</h2>"
   ]
  },
  {
   "cell_type": "code",
   "execution_count": 12,
   "metadata": {},
   "outputs": [
    {
     "name": "stdout",
     "output_type": "stream",
     "text": [
      "X_non_digits.shape: (5905, 32, 32, 1)\n",
      "y_non_digits.shape: (5905,)\n",
      "\n",
      "X_non_digits_train.shape (4310, 32, 32, 1)\n",
      "y_non_digits_train.shape (4310,)\n",
      "X_non_digits_test.shape (1595, 32, 32, 1)\n",
      "y_non_digits_test.shape (1595,)\n"
     ]
    }
   ],
   "source": [
    "X_non_digits, y_non_digits = get_non_digit_data()\n",
    "print('X_non_digits.shape:', X_non_digits.shape)\n",
    "print('y_non_digits.shape:', y_non_digits.shape)\n",
    "\n",
    "per_train = int(0.73*len(y_non_digits))\n",
    "X_non_digits_train = X_non_digits[:per_train]\n",
    "y_non_digits_train = y_non_digits[:per_train]\n",
    "X_non_digits_test = X_non_digits[per_train:]\n",
    "y_non_digits_test = y_non_digits[per_train:]\n",
    "print()\n",
    "print('X_non_digits_train.shape', X_non_digits_train.shape)\n",
    "print('y_non_digits_train.shape', y_non_digits_train.shape)\n",
    "print('X_non_digits_test.shape', X_non_digits_test.shape)\n",
    "print('y_non_digits_test.shape', y_non_digits_test.shape)"
   ]
  },
  {
   "cell_type": "markdown",
   "metadata": {},
   "source": [
    "<h2>Part 4: Combine datasets</h2>"
   ]
  },
  {
   "cell_type": "code",
   "execution_count": 13,
   "metadata": {},
   "outputs": [
    {
     "name": "stdout",
     "output_type": "stream",
     "text": [
      "X_train: (77567, 32, 32, 1)\n",
      "y_train: (77567,)\n",
      "X_test: (27627, 32, 32, 1)\n",
      "y_test: (27627,)\n"
     ]
    }
   ],
   "source": [
    "X_train = np.concatenate((X_train_gray, X_non_digits_train))\n",
    "y_train = np.concatenate((y_train, y_non_digits_train))\n",
    "print('X_train:', X_train.shape)\n",
    "print('y_train:', y_train.shape)\n",
    "\n",
    "X_test = np.concatenate((X_test_gray, X_non_digits_test))\n",
    "y_test = np.concatenate((y_test, y_non_digits_test))\n",
    "print('X_test:', X_test.shape)\n",
    "print('y_test:', y_test.shape)"
   ]
  },
  {
   "cell_type": "markdown",
   "metadata": {},
   "source": [
    "<h2>Part 5: Shuffle datasets</h2>"
   ]
  },
  {
   "cell_type": "code",
   "execution_count": 14,
   "metadata": {},
   "outputs": [],
   "source": [
    "train_index_length = X_train.shape[0]\n",
    "test_index_length = X_test.shape[0]"
   ]
  },
  {
   "cell_type": "code",
   "execution_count": 15,
   "metadata": {},
   "outputs": [],
   "source": [
    "train_index = np.arange(train_index_length)\n",
    "np.random.shuffle(train_index)\n",
    "test_index = np.arange(test_index_length)\n",
    "np.random.shuffle(test_index)"
   ]
  },
  {
   "cell_type": "code",
   "execution_count": 16,
   "metadata": {},
   "outputs": [],
   "source": [
    "X_train_shuffled = X_train[train_index]\n",
    "y_train_shuffled = y_train[train_index]\n",
    "\n",
    "X_test_shuffled = X_train[test_index]\n",
    "y_test_shuffled = y_train[test_index]"
   ]
  },
  {
   "cell_type": "markdown",
   "metadata": {},
   "source": [
    "<h2>Part 6: Split training data into training and validation</h2>"
   ]
  },
  {
   "cell_type": "code",
   "execution_count": 17,
   "metadata": {},
   "outputs": [
    {
     "name": "stdout",
     "output_type": "stream",
     "text": [
      "X_train: (77567, 32, 32, 1) y_train: (77567,)\n"
     ]
    }
   ],
   "source": [
    "print('X_train:', X_train.shape, 'y_train:', y_train.shape)"
   ]
  },
  {
   "cell_type": "code",
   "execution_count": 18,
   "metadata": {},
   "outputs": [
    {
     "name": "stdout",
     "output_type": "stream",
     "text": [
      "split_index: 11635\n"
     ]
    }
   ],
   "source": [
    "split_index = int((0.15)*X_train.shape[0])\n",
    "print('split_index:', split_index)"
   ]
  },
  {
   "cell_type": "code",
   "execution_count": 19,
   "metadata": {},
   "outputs": [
    {
     "name": "stdout",
     "output_type": "stream",
     "text": [
      "X_train.shape (65932, 32, 32, 1) y_train.shape (65932,)\n",
      "X_val.shape (11635, 32, 32, 1) y_val.shape (11635,)\n"
     ]
    }
   ],
   "source": [
    "X_train = X_train_shuffled[split_index:]\n",
    "y_train = y_train_shuffled[split_index:]\n",
    "\n",
    "X_val = X_train_shuffled[:split_index]\n",
    "y_val = y_train_shuffled[:split_index]\n",
    "print('X_train.shape', X_train.shape, 'y_train.shape', y_train.shape)\n",
    "print('X_val.shape', X_val.shape, 'y_val.shape', y_val.shape)"
   ]
  },
  {
   "cell_type": "markdown",
   "metadata": {},
   "source": [
    "<h2>Part 7: Check data distribution</h2>"
   ]
  },
  {
   "cell_type": "code",
   "execution_count": 20,
   "metadata": {},
   "outputs": [
    {
     "data": {
      "text/plain": [
       "<Figure size 1440x720 with 0 Axes>"
      ]
     },
     "metadata": {},
     "output_type": "display_data"
    },
    {
     "data": {
      "image/png": "[encoded data removed]",
      "text/plain": [
       "<Figure size 432x288 with 3 Axes>"
      ]
     },
     "metadata": {
      "needs_background": "light"
     },
     "output_type": "display_data"
    }
   ],
   "source": [
    "plot_distribution(y_train, y_val, y_test)"
   ]
  },
  {
   "cell_type": "markdown",
   "metadata": {},
   "source": [
    "<h2>Part 8: Normalize data</h2>"
   ]
  },
  {
   "cell_type": "code",
   "execution_count": 21,
   "metadata": {},
   "outputs": [],
   "source": [
    "# print('max(X_train_gray[0]): {}'.format(np.max(X_train_gray[0])))\n",
    "# print('min(X_train_gray[0]): {}'.format(np.min(X_train_gray[0])))\n",
    "\n",
    "# train_mean = np.mean(X_train_gray, axis=0)\n",
    "# train_std = np.std(X_train_gray, axis=0)\n",
    "# print(train_mean[0][0])\n",
    "\n",
    "# test_mean = np.mean(X_test_gray, axis=0)\n",
    "# test_std = np.std(X_test_gray, axis=0)\n",
    "\n",
    "# X_train_gray = (X_train_gray - train_mean) / train_std\n",
    "# X_test_gray = (X_test_gray - test_mean) / test_std\n",
    "# print('max(X_train_gray[0]): {}'.format(np.max(X_train_gray[0])))\n",
    "# print('min(X_train_gray[0]): {}'.format(np.min(X_train_gray[0])))"
   ]
  },
  {
   "cell_type": "markdown",
   "metadata": {},
   "source": [
    "<h2>Part 9: Change data format to OHE</h2>"
   ]
  },
  {
   "cell_type": "code",
   "execution_count": 22,
   "metadata": {},
   "outputs": [],
   "source": [
    "# # OHE = OneHotEncoder().fit(y_train.reshape(-1, 1))\n",
    "# print(np.unique(y_train))\n",
    "# # y_train = OHE.transform(y_train.reshape(-1, 1)).toarray()\n",
    "# # y_test = OHE.transform(y_test.reshape(-1, 1)).toarray()\n",
    "# print(np.unique(y_train))\n",
    "# print(np.unique(y_test))"
   ]
  },
  {
   "cell_type": "markdown",
   "metadata": {},
   "source": [
    "<h2>Part 10: Save data</h2>"
   ]
  },
  {
   "cell_type": "code",
   "execution_count": 23,
   "metadata": {},
   "outputs": [
    {
     "name": "stdout",
     "output_type": "stream",
     "text": [
      "Storing data\n"
     ]
    },
    {
     "data": {
      "text/plain": [
       "<HDF5 dataset \"y_test\": shape (27627,), type \"<i4\">"
      ]
     },
     "execution_count": 23,
     "metadata": {},
     "output_type": "execute_result"
    }
   ],
   "source": [
    "print('Storing data')\n",
    "# Create file\n",
    "h5f = h5py.File('prepare_data.h5', 'w')\n",
    "\n",
    "# Store the datasets\n",
    "h5f.create_dataset('X_train', data=X_train)\n",
    "h5f.create_dataset('y_train', data=y_train)\n",
    "h5f.create_dataset('X_val', data=X_val)\n",
    "h5f.create_dataset('y_val', data=y_val)\n",
    "h5f.create_dataset('X_test', data=X_test)\n",
    "h5f.create_dataset('y_test', data=y_test)"
   ]
  },
  {
   "cell_type": "code",
   "execution_count": 24,
   "metadata": {},
   "outputs": [
    {
     "name": "stdout",
     "output_type": "stream",
     "text": [
      "columns in \"h5f\": ['X_test', 'X_train', 'X_val', 'y_test', 'y_train', 'y_val']\n"
     ]
    }
   ],
   "source": [
    "print('columns in \"h5f\":', list(h5f.keys()))"
   ]
  },
  {
   "cell_type": "code",
   "execution_count": 25,
   "metadata": {},
   "outputs": [
    {
     "name": "stdout",
     "output_type": "stream",
     "text": [
      "Data storage complete\n"
     ]
    }
   ],
   "source": [
    "# Close the file\n",
    "h5f.close()\n",
    "print('Data storage complete')"
   ]
  },
  {
   "cell_type": "code",
   "execution_count": null,
   "metadata": {},
   "outputs": [],
   "source": []
  }
 ],
 "metadata": {
  "kernelspec": {
   "display_name": "Python 3",
   "language": "python",
   "name": "python3"
  },
  "language_info": {
   "codemirror_mode": {
    "name": "ipython",
    "version": 3
   },
   "file_extension": ".py",
   "mimetype": "text/x-python",
   "name": "python",
   "nbconvert_exporter": "python",
   "pygments_lexer": "ipython3",
   "version": "3.7.6"
  }
 },
 "nbformat": 4,
 "nbformat_minor": 4
}
