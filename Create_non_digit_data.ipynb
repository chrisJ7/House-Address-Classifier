{
 "cells": [
  {
   "cell_type": "markdown",
   "metadata": {},
   "source": [
    "<h1><center>Imports</center></h1>"
   ]
  },
  {
   "cell_type": "code",
   "execution_count": 1,
   "metadata": {},
   "outputs": [],
   "source": [
    "import cv2\n",
    "import numpy as np\n",
    "\n",
    "import matplotlib.pyplot as plt"
   ]
  },
  {
   "cell_type": "markdown",
   "metadata": {},
   "source": [
    "<h1><center>Functions</center></h1>"
   ]
  },
  {
   "cell_type": "code",
   "execution_count": 2,
   "metadata": {},
   "outputs": [],
   "source": [
    "def make_non_digit_examples():\n",
    "    '''\n",
    "    This function is the same as below so that it can be called by the below\n",
    "    '''\n",
    "    dir = 'training_images/no_digits/'\n",
    "    imgs = ['510.png', '801.png', '4311.png', 'na.png', 'na_2.png', 'na_3.png', 'na_4.png', \n",
    "            'na_5.png', 'na_6.png', 'na_7.png', 'na_8.png']\n",
    "    \n",
    "    images_color = list()\n",
    "    images = list()\n",
    "    for img in imgs:\n",
    "        file = dir+img\n",
    "        img = cv2.imread(file)\n",
    "        img = cv2.cvtColor(img, cv2.COLOR_BGR2RGB)\n",
    "        images_color.append(img)\n",
    "        img = cv2.cvtColor(img, cv2.COLOR_BGR2GRAY)\n",
    "        images.append(img)\n",
    "\n",
    "    win_size = 32\n",
    "    \n",
    "    window = dict()\n",
    "    cut_images = list()\n",
    "    labels = list()\n",
    "\n",
    "    win = 0\n",
    "    # creates grayscale image set\n",
    "    for img in images:\n",
    "        height, width = img.shape[:2]\n",
    "        win_temp = 0\n",
    "        for w in range(0, width, win_size):\n",
    "            for h in range(0, height, win_size):\n",
    "                img_cut = img[w:w+win_size, h:h+win_size]\n",
    "                if img_cut.shape == (32, 32):\n",
    "                    cut_images.append(img_cut)\n",
    "                    labels.append(10)\n",
    "\n",
    "                    window[win] = [(h, w), (h+win_size, w+win_size)]\n",
    "                    win+=1\n",
    "                    win_temp+=1\n",
    "                else:\n",
    "                    continue\n",
    "\n",
    "    cut_images = np.array(cut_images)\n",
    "    cut_images = np.reshape(cut_images,(-1,32,32,1))\n",
    "    labels = np.array(labels)\n",
    "\n",
    "    return(cut_images, labels)\n",
    "    "
   ]
  },
  {
   "cell_type": "markdown",
   "metadata": {},
   "source": [
    "<h1><center>Inline Code</center></h1>"
   ]
  },
  {
   "cell_type": "code",
   "execution_count": 3,
   "metadata": {},
   "outputs": [],
   "source": [
    "dir = 'training_images/no_digits/'\n",
    "imgs = ['510.png', '801.png', '4311.png', 'na.png', 'na_2.png', 'na_3.png', 'na_4.png', \n",
    "        'na_5.png', 'na_6.png', 'na_7.png', 'na_8.png']"
   ]
  },
  {
   "cell_type": "code",
   "execution_count": 4,
   "metadata": {},
   "outputs": [
    {
     "name": "stdout",
     "output_type": "stream",
     "text": [
      "number of images: 11\n"
     ]
    }
   ],
   "source": [
    "images_color = list()\n",
    "images = list()\n",
    "for img in imgs:\n",
    "    file = dir+img\n",
    "    img = cv2.imread(file)\n",
    "    img = cv2.cvtColor(img, cv2.COLOR_BGR2RGB)\n",
    "    images_color.append(img)\n",
    "    img = cv2.cvtColor(img, cv2.COLOR_BGR2GRAY)\n",
    "    images.append(img)\n",
    "print('number of images:', len(images))"
   ]
  },
  {
   "cell_type": "code",
   "execution_count": 5,
   "metadata": {},
   "outputs": [],
   "source": [
    "%%capture\n",
    "plt.imshow(images[0], cmap='gray')"
   ]
  },
  {
   "cell_type": "code",
   "execution_count": 6,
   "metadata": {},
   "outputs": [],
   "source": [
    "win_size = 32"
   ]
  },
  {
   "cell_type": "code",
   "execution_count": 7,
   "metadata": {},
   "outputs": [
    {
     "name": "stdout",
     "output_type": "stream",
     "text": [
      "img.shape: (481, 650)\n",
      "using 32x32 sliding window, 300 images created\n",
      "img.shape: (900, 1200)\n",
      "using 32x32 sliding window, 1036 images created\n",
      "img.shape: (800, 1080)\n",
      "using 32x32 sliding window, 825 images created\n",
      "img.shape: (240, 360)\n",
      "using 32x32 sliding window, 77 images created\n",
      "img.shape: (371, 660)\n",
      "using 32x32 sliding window, 220 images created\n",
      "img.shape: (262, 350)\n",
      "using 32x32 sliding window, 80 images created\n",
      "img.shape: (600, 800)\n",
      "using 32x32 sliding window, 450 images created\n",
      "img.shape: (1200, 2400)\n",
      "using 32x32 sliding window, 2775 images created\n",
      "img.shape: (1309, 1680)\n",
      "using 32x32 sliding window, 2080 images created\n",
      "img.shape: (576, 768)\n",
      "using 32x32 sliding window, 432 images created\n",
      "img.shape: (512, 768)\n",
      "using 32x32 sliding window, 384 images created\n",
      "total_windows: 8659\n"
     ]
    }
   ],
   "source": [
    "total_windows = 0\n",
    "for img in images:\n",
    "    print('img.shape:', img.shape)\n",
    "\n",
    "    height, width = img.shape[:2]\n",
    "    num_heights = int(height/win_size)\n",
    "    num_widths = int(width/win_size)\n",
    "    num_windows = num_heights*num_widths\n",
    "\n",
    "    print('using 32x32 sliding window, {} images created'.format(num_windows))\n",
    "    total_windows += num_windows\n",
    "print('total_windows:', total_windows)"
   ]
  },
  {
   "cell_type": "code",
   "execution_count": 8,
   "metadata": {},
   "outputs": [
    {
     "name": "stdout",
     "output_type": "stream",
     "text": [
      "img.shape: (481, 650)\n",
      "240 images created\n",
      "\n",
      "img.shape: (900, 1200)\n",
      "812 images created\n",
      "\n",
      "img.shape: (800, 1080)\n",
      "625 images created\n",
      "\n",
      "img.shape: (240, 360)\n",
      "56 images created\n",
      "\n",
      "img.shape: (371, 660)\n",
      "132 images created\n",
      "\n",
      "img.shape: (262, 350)\n",
      "72 images created\n",
      "\n",
      "img.shape: (600, 800)\n",
      "342 images created\n",
      "\n",
      "img.shape: (1200, 2400)\n",
      "1406 images created\n",
      "\n",
      "img.shape: (1309, 1680)\n",
      "1640 images created\n",
      "\n",
      "img.shape: (576, 768)\n",
      "324 images created\n",
      "\n",
      "img.shape: (512, 768)\n",
      "256 images created\n",
      "\n",
      "5905 images created\n"
     ]
    }
   ],
   "source": [
    "window = dict()\n",
    "cut_images = list()\n",
    "labels = list()\n",
    "\n",
    "win = 0\n",
    "for img in images:\n",
    "    print('img.shape:', img.shape)\n",
    "    height, width = img.shape[:2]\n",
    "    win_temp = 0\n",
    "    for w in range(0, width, win_size):\n",
    "    #     print('height:', h)\n",
    "        for h in range(0, height, win_size):\n",
    "    #         print('width:', w)\n",
    "            img_cut = img[w:w+win_size, h:h+win_size]\n",
    "            if img_cut.shape == (32, 32):\n",
    "                cut_images.append(img_cut)\n",
    "                labels.append(10)\n",
    "\n",
    "                window[win] = [(h, w), (h+win_size, w+win_size)]\n",
    "                win+=1\n",
    "                win_temp+=1\n",
    "            else:\n",
    "                continue\n",
    "    print('{} images created'.format(win_temp))\n",
    "    print()\n",
    "print('{} images created'.format(len(cut_images)))"
   ]
  },
  {
   "cell_type": "code",
   "execution_count": 9,
   "metadata": {},
   "outputs": [
    {
     "name": "stdout",
     "output_type": "stream",
     "text": [
      "num_windows 5905\n",
      "num_cut_images: 5905\n",
      "num_labels: 5905\n"
     ]
    }
   ],
   "source": [
    "print('num_windows', len(window))\n",
    "print('num_cut_images:', len(cut_images))\n",
    "print('num_labels:', len(labels))"
   ]
  },
  {
   "cell_type": "code",
   "execution_count": 10,
   "metadata": {},
   "outputs": [],
   "source": [
    "%%capture\n",
    "# img1:124;img2:826, 827;img3:1756, \n",
    "\n",
    "win = 1756\n",
    "\n",
    "img_rect = np.copy(images_color[2])\n",
    "cv2.rectangle(img_rect, window[win][0], window[win][1], color=(0, 255, 0), thickness=-1)\n",
    "\n",
    "plt.rcParams['figure.figsize'] = [10, 5]\n",
    "fig, ax = plt.subplots(1,2)\n",
    "ax[0].imshow(img_rect)\n",
    "ax[1].imshow(cut_images[win], cmap='gray')"
   ]
  },
  {
   "cell_type": "code",
   "execution_count": 11,
   "metadata": {},
   "outputs": [
    {
     "name": "stdout",
     "output_type": "stream",
     "text": [
      "cut_images.shape: (5905, 32, 32, 1)\n",
      "labels.shape: (5905,)\n"
     ]
    }
   ],
   "source": [
    "cut_images = np.array(cut_images)\n",
    "cut_images = np.reshape(cut_images,(-1,32,32,1))\n",
    "labels = np.array(labels)\n",
    "print('cut_images.shape:', cut_images.shape)\n",
    "print('labels.shape:', labels.shape)"
   ]
  },
  {
   "cell_type": "code",
   "execution_count": 12,
   "metadata": {},
   "outputs": [
    {
     "name": "stdout",
     "output_type": "stream",
     "text": [
      "5905\n",
      "(5905, 32, 32, 1)\n",
      "5905\n",
      "(5905,)\n"
     ]
    }
   ],
   "source": [
    "x_data, y_data = make_non_digit_examples()\n",
    "print(len(x_data))\n",
    "print(x_data.shape)\n",
    "print(len(y_data))\n",
    "print(y_data.shape)"
   ]
  },
  {
   "cell_type": "code",
   "execution_count": null,
   "metadata": {},
   "outputs": [],
   "source": []
  }
 ],
 "metadata": {
  "kernelspec": {
   "display_name": "Python 3",
   "language": "python",
   "name": "python3"
  },
  "language_info": {
   "codemirror_mode": {
    "name": "ipython",
    "version": 3
   },
   "file_extension": ".py",
   "mimetype": "text/x-python",
   "name": "python",
   "nbconvert_exporter": "python",
   "pygments_lexer": "ipython3",
   "version": "3.7.6"
  }
 },
 "nbformat": 4,
 "nbformat_minor": 4
}
